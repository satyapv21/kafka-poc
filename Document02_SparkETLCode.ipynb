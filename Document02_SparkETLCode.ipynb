{
 "cells": [
  {
   "cell_type": "code",
   "execution_count": 16,
   "metadata": {},
   "outputs": [],
   "source": [
    "import os\n",
    "import sys\n",
    "os.environ[\"PYSPARK_PYTHON\"] = \"/opt/cloudera/parcels/Anaconda/bin/python\"\n",
    "os.environ[\"JAVA_HOME\"] = \"/usr/java/jdk1.8.0_161/jre\"\n",
    "os.environ[\"SPARK_HOME\"] = \"/opt/cloudera/parcels/SPARK2-2.3.0.cloudera2-1.cdh5.13.3.p0.316101/lib/spark2/\"\n",
    "os.environ[\"PYLIB\"] = os.environ[\"SPARK_HOME\"] + \"/python/lib\"\n",
    "sys.path.insert(0, os.environ[\"PYLIB\"] +\"/py4j-0.10.6-src.zip\")\n",
    "sys.path.insert(0, os.environ[\"PYLIB\"] +\"/pyspark.zip\")"
   ]
  },
  {
   "cell_type": "code",
   "execution_count": 17,
   "metadata": {},
   "outputs": [],
   "source": [
    "from pyspark.sql import SparkSession"
   ]
  },
  {
   "cell_type": "code",
   "execution_count": 18,
   "metadata": {},
   "outputs": [
    {
     "data": {
      "text/html": [
       "\n",
       "            <div>\n",
       "                <p><b>SparkSession - hive</b></p>\n",
       "                \n",
       "        <div>\n",
       "            <p><b>SparkContext</b></p>\n",
       "\n",
       "            <p><a href=\"http://ip-10-0-0-86.ec2.internal:4040\">Spark UI</a></p>\n",
       "\n",
       "            <dl>\n",
       "              <dt>Version</dt>\n",
       "                <dd><code>v2.3.0.cloudera2</code></dd>\n",
       "              <dt>Master</dt>\n",
       "                <dd><code>local</code></dd>\n",
       "              <dt>AppName</dt>\n",
       "                <dd><code>demo</code></dd>\n",
       "            </dl>\n",
       "        </div>\n",
       "        \n",
       "            </div>\n",
       "        "
      ],
      "text/plain": [
       "<pyspark.sql.session.SparkSession at 0x7f6948201850>"
      ]
     },
     "execution_count": 18,
     "metadata": {},
     "output_type": "execute_result"
    }
   ],
   "source": [
    "spark = SparkSession.builder.appName('demo').master(\"local\").enableHiveSupport().getOrCreate()\n",
    "spark"
   ]
  },
  {
   "cell_type": "code",
   "execution_count": 19,
   "metadata": {},
   "outputs": [],
   "source": [
    "#Specifying the schema instead of inferring it \n",
    "from pyspark.sql.types import StructType, StructField, IntegerType, StringType, BooleanType, DoubleType, LongType, FloatType\n",
    "\n",
    "inputSchema = StructType([StructField('year', IntegerType(),True),\n",
    "                        StructField('month', StringType(),True),\n",
    "                        StructField('day', IntegerType(),True), \n",
    "                        StructField('weekday', StringType(),True),  \n",
    "                        StructField('hour', IntegerType(),True),  \n",
    "                        StructField('atm_status', StringType(),True),  \n",
    "                        StructField('atm_id', StringType(),True),  \n",
    "                        StructField('atm_manufacturer', StringType(),True),  \n",
    "                        StructField('atm_location', StringType(),True),  \n",
    "                        StructField('atm_streetname', StringType(),True),  \n",
    "                        StructField('atm_street_number', IntegerType(),True),  \n",
    "                        StructField('atm_zipcode', IntegerType(),True),  \n",
    "                        StructField('atm_lat', FloatType(),True),  \n",
    "                        StructField('atm_lon', FloatType(),True),  \n",
    "                        StructField('currency', StringType(),True),  \n",
    "                        StructField('card_type', StringType(),True),  \n",
    "                        StructField('transction_amount', IntegerType(),True),  \n",
    "                        StructField('service', StringType(),True),  \n",
    "                        StructField('message_code', StringType(),True),  \n",
    "                        StructField('message_text', StringType(),True),  \n",
    "                        StructField('weather_lat', FloatType(),True),\n",
    "                        StructField('weather_lon', FloatType(),True),\n",
    "                        StructField('weather_city_id', IntegerType(),True),\n",
    "                        StructField('weather_city_name', StringType(),True),\n",
    "                        StructField('temp', FloatType(),True),\n",
    "                        StructField('pressure', IntegerType(),True),\n",
    "                        StructField('humidity', IntegerType(),True),\n",
    "                        StructField('wind_speed', IntegerType(),True),\n",
    "                        StructField('wind_deg', IntegerType(),True),\n",
    "                        StructField('rain_3h', FloatType(),True),\n",
    "                        StructField('clouds_all', IntegerType(),True),\n",
    "                        StructField('weather_id', IntegerType(),True),\n",
    "                        StructField('weather_main', StringType(),True),\n",
    "                        StructField('weather_description', StringType(),True)\n",
    "                        ])"
   ]
  },
  {
   "cell_type": "code",
   "execution_count": 20,
   "metadata": {},
   "outputs": [],
   "source": [
    "# Creating dataframe from the csv file and infering the schema\n",
    "df = spark.read.load(\"/user/root/srcatm/part-m-00000\", schema = inputSchema,format=\"csv\", sep=\",\")\n"
   ]
  },
  {
   "cell_type": "code",
   "execution_count": 21,
   "metadata": {},
   "outputs": [
    {
     "name": "stdout",
     "output_type": "stream",
     "text": [
      "root\n",
      " |-- year: integer (nullable = true)\n",
      " |-- month: string (nullable = true)\n",
      " |-- day: integer (nullable = true)\n",
      " |-- weekday: string (nullable = true)\n",
      " |-- hour: integer (nullable = true)\n",
      " |-- atm_status: string (nullable = true)\n",
      " |-- atm_id: string (nullable = true)\n",
      " |-- atm_manufacturer: string (nullable = true)\n",
      " |-- atm_location: string (nullable = true)\n",
      " |-- atm_streetname: string (nullable = true)\n",
      " |-- atm_street_number: integer (nullable = true)\n",
      " |-- atm_zipcode: integer (nullable = true)\n",
      " |-- atm_lat: float (nullable = true)\n",
      " |-- atm_lon: float (nullable = true)\n",
      " |-- currency: string (nullable = true)\n",
      " |-- card_type: string (nullable = true)\n",
      " |-- transction_amount: integer (nullable = true)\n",
      " |-- service: string (nullable = true)\n",
      " |-- message_code: string (nullable = true)\n",
      " |-- message_text: string (nullable = true)\n",
      " |-- weather_lat: float (nullable = true)\n",
      " |-- weather_lon: float (nullable = true)\n",
      " |-- weather_city_id: integer (nullable = true)\n",
      " |-- weather_city_name: string (nullable = true)\n",
      " |-- temp: float (nullable = true)\n",
      " |-- pressure: integer (nullable = true)\n",
      " |-- humidity: integer (nullable = true)\n",
      " |-- wind_speed: integer (nullable = true)\n",
      " |-- wind_deg: integer (nullable = true)\n",
      " |-- rain_3h: float (nullable = true)\n",
      " |-- clouds_all: integer (nullable = true)\n",
      " |-- weather_id: integer (nullable = true)\n",
      " |-- weather_main: string (nullable = true)\n",
      " |-- weather_description: string (nullable = true)\n",
      "\n"
     ]
    }
   ],
   "source": [
    "# Printing the schema \n",
    "df.printSchema()"
   ]
  },
  {
   "cell_type": "code",
   "execution_count": 22,
   "metadata": {},
   "outputs": [
    {
     "name": "stdout",
     "output_type": "stream",
     "text": [
      "+----+-------+---+-------+----+----------+------+----------------+------------------+--------------------+-----------------+-----------+-------+-------+--------+--------------------+-----------------+----------+------------+------------+-----------+-----------+---------------+-----------------+------+--------+--------+----------+--------+-------+----------+----------+------------+--------------------+\n",
      "|year|  month|day|weekday|hour|atm_status|atm_id|atm_manufacturer|      atm_location|      atm_streetname|atm_street_number|atm_zipcode|atm_lat|atm_lon|currency|           card_type|transction_amount|   service|message_code|message_text|weather_lat|weather_lon|weather_city_id|weather_city_name|  temp|pressure|humidity|wind_speed|wind_deg|rain_3h|clouds_all|weather_id|weather_main| weather_description|\n",
      "+----+-------+---+-------+----+----------+------+----------------+------------------+--------------------+-----------------+-----------+-------+-------+--------+--------------------+-----------------+----------+------------+------------+-----------+-----------+---------------+-----------------+------+--------+--------+----------+--------+-------+----------+----------+------------+--------------------+\n",
      "|2017|January|  1| Sunday|   0|    Active|     1|             NCR|        NÃƒÂ¦stved|         Farimagsvej|                8|       4700| 55.233| 11.763|     DKK|          MasterCard|             5643|Withdrawal|        null|        null|      55.23|     11.761|        2616038|         Naestved|281.15|    1014|      87|         7|     260|  0.215|        92|       500|        Rain|          light rain|\n",
      "|2017|January|  1| Sunday|   0|  Inactive|     2|             NCR|          Vejgaard|          Hadsundvej|               20|       9000| 57.043|   9.95|     DKK|          MasterCard|             1764|Withdrawal|        null|        null|     57.048|      9.935|        2616235|   NÃƒÂ¸rresundby|280.64|    1020|      93|         9|     250|   0.59|        92|       500|        Rain|          light rain|\n",
      "|2017|January|  1| Sunday|   0|  Inactive|     2|             NCR|          Vejgaard|          Hadsundvej|               20|       9000| 57.043|   9.95|     DKK|                VISA|             1891|Withdrawal|        null|        null|     57.048|      9.935|        2616235|   NÃƒÂ¸rresundby|280.64|    1020|      93|         9|     250|   0.59|        92|       500|        Rain|          light rain|\n",
      "|2017|January|  1| Sunday|   0|  Inactive|     3|             NCR|             Ikast| RÃƒÂ¥dhusstrÃƒÂ¦det|               12|       7430| 56.139|  9.154|     DKK|                VISA|             4166|Withdrawal|        null|        null|     56.139|      9.158|        2619426|            Ikast|281.15|    1011|     100|         6|     240|    0.0|        75|       300|     Drizzle|light intensity d...|\n",
      "|2017|January|  1| Sunday|   0|    Active|     4|             NCR|        Svogerslev|        BrÃƒÂ¸nsager|                1|       4000| 55.634| 12.018|     DKK|          MasterCard|             5153|Withdrawal|        null|        null|     55.642|      12.08|        2614481|         Roskilde|280.61|    1014|      87|         7|     260|    0.0|        88|       701|        Mist|                mist|\n",
      "|2017|January|  1| Sunday|   0|    Active|     5|             NCR|              Nibe|              Torvet|                1|       9240| 56.983|  9.639|     DKK|          MasterCard|             3269|Withdrawal|        null|        null|     56.981|      9.639|        2616483|             Nibe|280.64|    1020|      93|         9|     250|   0.59|        92|       500|        Rain|          light rain|\n",
      "|2017|January|  1| Sunday|   0|    Active|     6|             NCR|        Fredericia|    SjÃƒÂ¦llandsgade|               33|       7000| 55.564|  9.757|     DKK|          MasterCard|              887|Withdrawal|        null|        null|     55.566|      9.753|        2621951|       Fredericia|281.15|    1014|      93|         7|     230|   0.29|        92|       500|        Rain|          light rain|\n",
      "|2017|January|  1| Sunday|   0|    Active|     7| Diebold Nixdorf|         Hjallerup|   Hjallerup Centret|               18|       9320| 57.168| 10.148|     DKK|  Mastercard - on-us|             4626|Withdrawal|        null|        null|     57.165|     10.146|        2620275|        Hjallerup|280.64|    1020|      93|         9|     250|   0.59|        92|       500|        Rain|          light rain|\n",
      "|2017|January|  1| Sunday|   0|    Active|     8|             NCR|       GlyngÃƒÂ¸re|         FÃƒÂ¦rgevej|                1|       7870| 56.762|  8.867|     DKK|          MasterCard|              470|Withdrawal|        null|        null|     56.793|      8.853|        2615964|    Nykobing Mors|281.15|    1011|     100|         6|     240|    0.0|        75|       300|     Drizzle|light intensity d...|\n",
      "|2017|January|  1| Sunday|   0|    Active|     9| Diebold Nixdorf|           Hadsund|           Storegade|               12|       9560| 56.716| 10.114|     DKK|                VISA|             8473|Withdrawal|        null|        null|     56.715|     10.117|        2620952|          Hadsund|280.64|    1020|      93|         9|     250|   0.59|        92|       500|        Rain|          light rain|\n",
      "|2017|January|  1| Sunday|   0|    Active|    10|             NCR|    NÃƒÂ¸rresundby|              Torvet|                6|       9400| 57.059|  9.922|     DKK|             Dankort|              953|Withdrawal|        null|        null|     57.048|      9.919|        2624886|          Aalborg|280.64|    1020|      93|         9|     250|   0.59|        92|       500|        Rain|          light rain|\n",
      "|2017|January|  1| Sunday|   0|    Active|    11|             NCR|         Sauersvej|Fridtjof Nansens Vej|                2|       9210| 57.023|   9.94|     DKK|        Visa Dankort|             9346|Withdrawal|        null|        null|     57.048|      9.935|        2616235|   NÃƒÂ¸rresundby|280.64|    1020|      93|         9|     250|   0.59|        92|       500|        Rain|          light rain|\n",
      "|2017|January|  1| Sunday|   0|  Inactive|     2|             NCR|          Vejgaard|          Hadsundvej|               20|       9000| 57.043|   9.95|     DKK|  Mastercard - on-us|             3874|Withdrawal|        null|        null|     57.048|      9.935|        2616235|   NÃƒÂ¸rresundby|280.64|    1020|      93|         9|     250|   0.59|        92|       500|        Rain|          light rain|\n",
      "|2017|January|  1| Sunday|   0|  Inactive|    12|             NCR|ÃƒËœsterÃƒÂ¥  Duus|        ÃƒËœsterÃƒÂ¥|               12|       9000| 57.049|  9.922|     DKK|  Mastercard - on-us|             1329|Withdrawal|        null|        null|     57.048|      9.919|        2624886|          Aalborg|280.64|    1020|      93|         9|     250|   0.59|        92|       500|        Rain|          light rain|\n",
      "|2017|January|  1| Sunday|   0|    Active|    13|             NCR|           SÃƒÂ¦by|          Vestergade|                3|       9300| 57.334| 10.515|     DKK|  Mastercard - on-us|             5024|Withdrawal|        null|        null|     57.441|     10.537|        2621927|    Frederikshavn|281.14|    1019|      94|        12|     251|  1.275|        92|       500|        Rain|          light rain|\n",
      "|2017|January|  1| Sunday|   0|  Inactive|    14|             NCR|        HÃƒÂ¸rning|        NÃƒÂ¸rrealle|               12|       8362| 56.086| 10.037|     DKK|Visa Dankort - on-us|             1133|Withdrawal|        null|        null|     56.157|     10.211|        2624652|            Arhus|281.15|    1012|      87|         5|     250|    0.0|        92|       300|     Drizzle|light intensity d...|\n",
      "|2017|January|  1| Sunday|   0|    Active|    15|             NCR|            Vestre|           Kastetvej|               36|       9000| 57.053|  9.905|     DKK|          MasterCard|              594|Withdrawal|        null|        null|     57.048|      9.919|        2624886|          Aalborg|280.64|    1020|      93|         9|     250|   0.59|        92|       500|        Rain|          light rain|\n",
      "|2017|January|  1| Sunday|   0|  Inactive|    12|             NCR|ÃƒËœsterÃƒÂ¥  Duus|        ÃƒËœsterÃƒÂ¥|               12|       9000| 57.049|  9.922|     DKK|  Mastercard - on-us|             9570|Withdrawal|        null|        null|     57.048|      9.919|        2624886|          Aalborg|280.64|    1020|      93|         9|     250|   0.59|        92|       500|        Rain|          light rain|\n",
      "|2017|January|  1| Sunday|   0|  Inactive|    16|             NCR|             Skive|            Adelgade|                8|       7800| 56.567|  9.027|     DKK|        Visa Dankort|             6068|Withdrawal|        null|        null|     56.567|      9.033|        2613731|            Skive|281.15|    1012|     100|         7|     240|    0.0|        75|       300|     Drizzle|light intensity d...|\n",
      "|2017|January|  1| Sunday|   0|    Active|    17|             NCR|           Randers|        ÃƒËœstervold|               16|       8900| 56.462| 10.038|     DKK|                VISA|             1630|Withdrawal|        null|        null|     56.715|     10.117|        2620952|          Hadsund|280.64|    1020|      93|         9|     250|   0.59|        92|       500|        Rain|          light rain|\n",
      "+----+-------+---+-------+----+----------+------+----------------+------------------+--------------------+-----------------+-----------+-------+-------+--------+--------------------+-----------------+----------+------------+------------+-----------+-----------+---------------+-----------------+------+--------+--------+----------+--------+-------+----------+----------+------------+--------------------+\n",
      "only showing top 20 rows\n",
      "\n"
     ]
    }
   ],
   "source": [
    "# Showing the elements of the dataframe\n",
    "df.show()"
   ]
  },
  {
   "cell_type": "code",
   "execution_count": 23,
   "metadata": {},
   "outputs": [
    {
     "data": {
      "text/plain": [
       "2468572"
      ]
     },
     "execution_count": 23,
     "metadata": {},
     "output_type": "execute_result"
    }
   ],
   "source": [
    "# Check the count\n",
    "df.count()"
   ]
  },
  {
   "cell_type": "code",
   "execution_count": null,
   "metadata": {},
   "outputs": [],
   "source": []
  },
  {
   "cell_type": "code",
   "execution_count": 24,
   "metadata": {},
   "outputs": [],
   "source": [
    "from pyspark.sql.functions import concat,col, lit\n",
    "from pyspark.sql.functions import lpad\n",
    "from pyspark import SparkContext\n",
    "import pyspark.sql \n",
    "from pyspark import sql\n",
    "from pyspark.sql import SQLContext\n",
    "from pyspark import SparkContext\n",
    "from pyspark import SparkConf, SparkContext\n",
    "\n",
    "sqlContext = sql.SQLContext(spark)\n",
    "\n",
    "\n"
   ]
  },
  {
   "cell_type": "code",
   "execution_count": 25,
   "metadata": {},
   "outputs": [],
   "source": [
    "# Location Dimension \n",
    "atm_loc_df = df.select([df.atm_location.alias(\"location\"), df.atm_streetname.alias(\"streetname\"), \n",
    "                        df.atm_street_number.alias(\"street_number\"), df.atm_zipcode.alias(\"zipcode\"), \n",
    "                        df.atm_lat.alias(\"lat\"), df.atm_lon.alias(\"lon\")])"
   ]
  },
  {
   "cell_type": "code",
   "execution_count": 26,
   "metadata": {},
   "outputs": [],
   "source": [
    "atm_loc_df = atm_loc_df.dropDuplicates()"
   ]
  },
  {
   "cell_type": "code",
   "execution_count": 27,
   "metadata": {},
   "outputs": [],
   "source": [
    "out_rdd1 = atm_loc_df.rdd.zipWithIndex().map(lambda (row,rowId): (list(row)+ [rowId+1]))\n",
    "\n",
    "out_df1 = atm_loc_df.withColumn(\"location_id\", lit(1))\n",
    "\n",
    "dimlocation_df = sqlContext.createDataFrame(out_rdd1, schema=out_df1.schema).select([\"location_id\",\"location\",\"streetname\",\"street_number\",\"zipcode\", \"lat\", \"lon\"])\n"
   ]
  },
  {
   "cell_type": "code",
   "execution_count": 28,
   "metadata": {},
   "outputs": [
    {
     "data": {
      "text/plain": [
       "109"
      ]
     },
     "execution_count": 28,
     "metadata": {},
     "output_type": "execute_result"
    }
   ],
   "source": [
    "dimlocation_df.count()"
   ]
  },
  {
   "cell_type": "code",
   "execution_count": 29,
   "metadata": {},
   "outputs": [
    {
     "name": "stdout",
     "output_type": "stream",
     "text": [
      "+-----------+--------------------+------------------+-------------+-------+------+------+\n",
      "|location_id|            location|        streetname|street_number|zipcode|   lat|   lon|\n",
      "+-----------+--------------------+------------------+-------------+-------+------+------+\n",
      "|          1|Aalborg Storcente...|          Hobrovej|          452|   9200|57.005| 9.876|\n",
      "|          2|            Hasseris|       Hasserisvej|          113|   9000|57.044| 9.898|\n",
      "|          3|         Bispensgade|       Bispensgade|           35|   9800|57.453| 9.996|\n",
      "|          4|           HolbÃƒÂ¦k|       Slotsvolden|            7|   4300|55.718|11.704|\n",
      "|          5|            Bindslev|       NÃƒÂ¸rrebro|           18|   9881|57.541|  10.2|\n",
      "|          6|      Bryggen  Vejle|  SÃƒÂ¸nderbrogade|            2|   7100|55.705| 9.532|\n",
      "|          7|          Abildgaard|    HjÃƒÂ¸rringvej|          144|   9900|57.447|10.506|\n",
      "|          8|            Slagelse|   Mariendals Alle|           29|   4200|55.398|11.342|\n",
      "|          9|            Roskilde|  KÃƒÂ¸benhavnsvej|           65|   4000|55.642|12.106|\n",
      "|         10|NykÃƒÂ¸bing Mors ...|       Kirketorvet|            1|   7900|56.795|  8.86|\n",
      "|         11|        KÃƒÂ¸benhavn|    Regnbuepladsen|            5|   1550|55.676|12.571|\n",
      "|         12|            Slagelse|Mariendals AllÃƒÂ¨|           29|   4200|55.398|11.342|\n",
      "|         13|              Viborg|         Toldboden|            3|   8800|56.448| 9.401|\n",
      "|         14|Spar KÃƒÂ¸bmand T...|     TornhÃƒÂ¸jvej|            4|   9220|57.026|10.002|\n",
      "|         15|          NÃƒÂ¦stved|      Farimagsgade|            8|   4700| 55.69|12.575|\n",
      "|         16|             Randers|      ÃƒËœstervold|           16|   8900|56.462|10.038|\n",
      "|         17|             Kolding|          Vejlevej|          135|   6000|55.505| 9.457|\n",
      "|         18|             Jebjerg|         Kirkegade|            4|   7870|56.671| 9.013|\n",
      "|         19|            Vejgaard|        Hadsundvej|           20|   9000|57.043|  9.95|\n",
      "|         20|             SÃƒÂ¦by|        Vestergade|            3|   9300|57.334|10.515|\n",
      "+-----------+--------------------+------------------+-------------+-------+------+------+\n",
      "only showing top 20 rows\n",
      "\n"
     ]
    }
   ],
   "source": [
    "dimlocation_df.show()"
   ]
  },
  {
   "cell_type": "code",
   "execution_count": 30,
   "metadata": {},
   "outputs": [],
   "source": [
    "dimlocation_df.coalesce(1).write.format('csv').save('/root/data20')"
   ]
  },
  {
   "cell_type": "code",
   "execution_count": null,
   "metadata": {},
   "outputs": [],
   "source": []
  },
  {
   "cell_type": "code",
   "execution_count": 31,
   "metadata": {},
   "outputs": [],
   "source": [
    "#from pyspark.sql.functions import from_utc_timestamp\n",
    "#from pyspark.sql.functions import to_timestamp\n",
    "#from pyspark.sql import functions \n",
    "from pyspark.sql.functions import col, from_unixtime\n",
    "from pyspark.sql.functions import unix_timestamp\n",
    "import pandas\n",
    "import time\n",
    "import os\n"
   ]
  },
  {
   "cell_type": "code",
   "execution_count": null,
   "metadata": {},
   "outputs": [],
   "source": []
  },
  {
   "cell_type": "code",
   "execution_count": null,
   "metadata": {},
   "outputs": [],
   "source": []
  },
  {
   "cell_type": "code",
   "execution_count": 32,
   "metadata": {},
   "outputs": [],
   "source": [
    "# Date Dimension \n",
    "atm_date_df = df.select([df.year,df.month,df.day,df.weekday,df.hour])\n",
    "\n",
    "\n"
   ]
  },
  {
   "cell_type": "code",
   "execution_count": 33,
   "metadata": {},
   "outputs": [],
   "source": [
    "res_df = atm_date_df.distinct().withColumn(\"full_date\", from_unixtime(unix_timestamp(concat(atm_date_df.year.cast(StringType()),\n",
    "                                                                     atm_date_df.month.cast(StringType()), \n",
    "                                                                   lpad(df.day.cast(StringType()), 2, '0'),\n",
    "                                                                   lpad(df.hour.cast(StringType()), 2, '0')),'yyyyMMMMMddHH'), 'YYYY-MM-dd HH:mm:SS'))\n",
    "\n",
    "\n"
   ]
  },
  {
   "cell_type": "code",
   "execution_count": 34,
   "metadata": {},
   "outputs": [],
   "source": [
    "out_rdd = res_df.rdd.zipWithIndex().map(lambda (row,rowId): (list(row)+ [rowId+1]))\n",
    "\n",
    "out_df = res_df.withColumn(\"date_id\", lit(1))\n",
    "\n",
    "dimdate_df = sqlContext.createDataFrame(out_rdd, schema=out_df.schema).select([\"date_id\",\"full_date\",\"year\",\"month\",\"day\", \"hour\", \"weekday\"])\n"
   ]
  },
  {
   "cell_type": "code",
   "execution_count": 35,
   "metadata": {},
   "outputs": [
    {
     "data": {
      "text/plain": [
       "8685"
      ]
     },
     "execution_count": 35,
     "metadata": {},
     "output_type": "execute_result"
    }
   ],
   "source": [
    "dimdate_df.count()"
   ]
  },
  {
   "cell_type": "code",
   "execution_count": 36,
   "metadata": {
    "scrolled": true
   },
   "outputs": [
    {
     "name": "stdout",
     "output_type": "stream",
     "text": [
      "+-------+-------------------+----+--------+---+----+--------+\n",
      "|date_id|          full_date|year|   month|day|hour| weekday|\n",
      "+-------+-------------------+----+--------+---+----+--------+\n",
      "|      1|2017-01-01 09:00:00|2017| January|  1|   9|  Sunday|\n",
      "|      2|2017-01-03 05:00:00|2017| January|  3|   5| Tuesday|\n",
      "|      3|2017-01-08 19:00:00|2017| January|  8|  19|  Sunday|\n",
      "|      4|2017-01-21 03:00:00|2017| January| 21|   3|Saturday|\n",
      "|      5|2017-01-23 21:00:00|2017| January| 23|  21|  Monday|\n",
      "|      6|2017-02-02 19:00:00|2017|February|  2|  19|Thursday|\n",
      "|      7|2017-02-05 16:00:00|2017|February|  5|  16|  Sunday|\n",
      "|      8|2017-02-21 15:00:00|2017|February| 21|  15| Tuesday|\n",
      "|      9|2017-03-02 08:00:00|2017|   March|  2|   8|Thursday|\n",
      "|     10|2017-04-02 02:00:00|2017|   April|  2|   2|  Sunday|\n",
      "|     11|2017-04-06 08:00:00|2017|   April|  6|   8|Thursday|\n",
      "|     12|2017-04-30 10:00:00|2017|   April| 30|  10|  Sunday|\n",
      "|     13|2017-05-02 02:00:00|2017|     May|  2|   2| Tuesday|\n",
      "|     14|2017-05-20 16:00:00|2017|     May| 20|  16|Saturday|\n",
      "|     15|2017-05-21 19:00:00|2017|     May| 21|  19|  Sunday|\n",
      "|     16|2017-06-27 00:00:00|2017|    June| 27|   0| Tuesday|\n",
      "|     17|2017-07-18 09:00:00|2017|    July| 18|   9| Tuesday|\n",
      "|     18|2017-07-18 22:00:00|2017|    July| 18|  22| Tuesday|\n",
      "|     19|2017-07-20 00:00:00|2017|    July| 20|   0|Thursday|\n",
      "|     20|2017-07-21 19:00:00|2017|    July| 21|  19|  Friday|\n",
      "+-------+-------------------+----+--------+---+----+--------+\n",
      "only showing top 20 rows\n",
      "\n"
     ]
    }
   ],
   "source": [
    "dimdate_df.show()"
   ]
  },
  {
   "cell_type": "code",
   "execution_count": 37,
   "metadata": {},
   "outputs": [],
   "source": [
    "dimdate_df.coalesce(1).write.format('csv').save('/root/data30')"
   ]
  },
  {
   "cell_type": "code",
   "execution_count": null,
   "metadata": {},
   "outputs": [],
   "source": []
  },
  {
   "cell_type": "code",
   "execution_count": 38,
   "metadata": {},
   "outputs": [],
   "source": [
    "# Card Dimension \n",
    "atm_card_df = df.select([df.card_type.alias(\"card_type\")])"
   ]
  },
  {
   "cell_type": "code",
   "execution_count": 39,
   "metadata": {},
   "outputs": [],
   "source": [
    "atm_card_df = atm_card_df.dropDuplicates()"
   ]
  },
  {
   "cell_type": "code",
   "execution_count": 40,
   "metadata": {},
   "outputs": [],
   "source": [
    "out_rdd2 = atm_card_df.rdd.zipWithIndex().map(lambda (row,rowId): (list(row)+ [rowId+1]))\n",
    "\n",
    "out_df2 = atm_card_df.withColumn(\"card_type_id\", lit(1))\n",
    "\n",
    "dimcard_df = sqlContext.createDataFrame(out_rdd2, schema=out_df2.schema).select([\"card_type_id\",\"card_type\"])"
   ]
  },
  {
   "cell_type": "code",
   "execution_count": 41,
   "metadata": {},
   "outputs": [
    {
     "data": {
      "text/plain": [
       "12"
      ]
     },
     "execution_count": 41,
     "metadata": {},
     "output_type": "execute_result"
    }
   ],
   "source": [
    "dimcard_df.count()"
   ]
  },
  {
   "cell_type": "code",
   "execution_count": 42,
   "metadata": {},
   "outputs": [
    {
     "name": "stdout",
     "output_type": "stream",
     "text": [
      "+------------+--------------------+\n",
      "|card_type_id|           card_type|\n",
      "+------------+--------------------+\n",
      "|           1|     Dankort - on-us|\n",
      "|           2|              CIRRUS|\n",
      "|           3|         HÃƒÂ¦vekort|\n",
      "|           4|                VISA|\n",
      "|           5|  Mastercard - on-us|\n",
      "|           6|             Maestro|\n",
      "|           7|Visa Dankort - on-us|\n",
      "|           8|        Visa Dankort|\n",
      "|           9|            VisaPlus|\n",
      "|          10|          MasterCard|\n",
      "|          11|             Dankort|\n",
      "|          12| HÃƒÂ¦vekort - on-us|\n",
      "+------------+--------------------+\n",
      "\n"
     ]
    }
   ],
   "source": [
    "dimcard_df.show()"
   ]
  },
  {
   "cell_type": "code",
   "execution_count": 43,
   "metadata": {},
   "outputs": [],
   "source": [
    "dimcard_df.coalesce(1).write.format('csv').save('/root/data40')"
   ]
  },
  {
   "cell_type": "code",
   "execution_count": null,
   "metadata": {},
   "outputs": [],
   "source": []
  },
  {
   "cell_type": "code",
   "execution_count": 44,
   "metadata": {},
   "outputs": [],
   "source": [
    "# ATM Dimension \n",
    "atm_atm_df = df.select([df.atm_id, df.atm_manufacturer, df.atm_lat, df.atm_lon])\n"
   ]
  },
  {
   "cell_type": "code",
   "execution_count": 45,
   "metadata": {},
   "outputs": [],
   "source": [
    "atm_atm_df = atm_atm_df.dropDuplicates()"
   ]
  },
  {
   "cell_type": "code",
   "execution_count": 46,
   "metadata": {},
   "outputs": [],
   "source": [
    "out_rdd3 = atm_atm_df.rdd.zipWithIndex().map(lambda (row,rowId): (list(row)+ [rowId+1]))\n",
    "\n",
    "out_df3 = atm_atm_df.withColumn(\"atm_main_id\", lit(1))\n",
    "\n",
    "dimatm_df = sqlContext.createDataFrame(out_rdd3, schema=out_df3.schema).select([\"atm_main_id\",\"atm_id\",\"atm_manufacturer\",\n",
    "                                                                               \"atm_lat\",\"atm_lon\"])"
   ]
  },
  {
   "cell_type": "code",
   "execution_count": 47,
   "metadata": {},
   "outputs": [
    {
     "data": {
      "text/plain": [
       "113"
      ]
     },
     "execution_count": 47,
     "metadata": {},
     "output_type": "execute_result"
    }
   ],
   "source": [
    "dimatm_df.count()"
   ]
  },
  {
   "cell_type": "code",
   "execution_count": 48,
   "metadata": {},
   "outputs": [
    {
     "data": {
      "text/plain": [
       "156"
      ]
     },
     "execution_count": 48,
     "metadata": {},
     "output_type": "execute_result"
    }
   ],
   "source": [
    "new_atm_df = dimatm_df.join(dimlocation_df, (dimatm_df.atm_lat == dimlocation_df.lat) & \n",
    "                             (dimatm_df.atm_lon == dimlocation_df.lon))\n",
    "new_atm_df.count()"
   ]
  },
  {
   "cell_type": "code",
   "execution_count": 49,
   "metadata": {
    "scrolled": true
   },
   "outputs": [
    {
     "name": "stdout",
     "output_type": "stream",
     "text": [
      "+-----------+------+----------------+-------+-------+-----------+--------------------+----------------+-------------+-------+------+------+\n",
      "|atm_main_id|atm_id|atm_manufacturer|atm_lat|atm_lon|location_id|            location|      streetname|street_number|zipcode|   lat|   lon|\n",
      "+-----------+------+----------------+-------+-------+-----------+--------------------+----------------+-------------+-------+------+------+\n",
      "|         38|    18| Diebold Nixdorf| 56.448|  9.401|         13|              Viborg|       Toldboden|            3|   8800|56.448| 9.401|\n",
      "|         64|   101|             NCR| 55.705|  9.532|          6|      Bryggen  Vejle|SÃƒÂ¸nderbrogade|            2|   7100|55.705| 9.532|\n",
      "|         20|     9| Diebold Nixdorf| 56.716| 10.114|         25|             Hadsund|       Storegade|           12|   9560|56.716|10.114|\n",
      "|         31|    64|             NCR| 55.859|  9.854|         88|             Horsens| GrÃƒÂ¸nlandsvej|            5|   8700|55.859| 9.854|\n",
      "|         18|    30|             NCR| 56.795|   8.86|         10|NykÃƒÂ¸bing Mors ...|     Kirketorvet|            1|   7900|56.795|  8.86|\n",
      "|         18|    30|             NCR| 56.795|   8.86|         47|    NykÃƒÂ¸bing Mors|     Kirketorvet|            1|   7900|56.795|  8.86|\n",
      "|         59|    59| Diebold Nixdorf| 56.795|   8.86|         10|NykÃƒÂ¸bing Mors ...|     Kirketorvet|            1|   7900|56.795|  8.86|\n",
      "|         59|    59| Diebold Nixdorf| 56.795|   8.86|         47|    NykÃƒÂ¸bing Mors|     Kirketorvet|            1|   7900|56.795|  8.86|\n",
      "|         40|   104|             NCR| 57.049|  9.922|         49|Intern  ÃƒËœsterÃƒÂ¥|    ÃƒËœsterÃƒÂ¥|           12|   9000|57.049| 9.922|\n",
      "|         40|   104|             NCR| 57.049|  9.922|         82|  ÃƒËœsterÃƒÂ¥  Duus|    ÃƒËœsterÃƒÂ¥|           12|   9000|57.049| 9.922|\n",
      "|         40|   104|             NCR| 57.049|  9.922|        103|ÃƒËœsterÃƒÂ¥  MÃƒ...|    ÃƒËœsterÃƒÂ¥|           12|   9000|57.049| 9.922|\n",
      "|        103|    21|             NCR| 57.049|  9.922|         49|Intern  ÃƒËœsterÃƒÂ¥|    ÃƒËœsterÃƒÂ¥|           12|   9000|57.049| 9.922|\n",
      "|        103|    21|             NCR| 57.049|  9.922|         82|  ÃƒËœsterÃƒÂ¥  Duus|    ÃƒËœsterÃƒÂ¥|           12|   9000|57.049| 9.922|\n",
      "|        103|    21|             NCR| 57.049|  9.922|        103|ÃƒËœsterÃƒÂ¥  MÃƒ...|    ÃƒËœsterÃƒÂ¥|           12|   9000|57.049| 9.922|\n",
      "|        109|    12|             NCR| 57.049|  9.922|         49|Intern  ÃƒËœsterÃƒÂ¥|    ÃƒËœsterÃƒÂ¥|           12|   9000|57.049| 9.922|\n",
      "|        109|    12|             NCR| 57.049|  9.922|         82|  ÃƒËœsterÃƒÂ¥  Duus|    ÃƒËœsterÃƒÂ¥|           12|   9000|57.049| 9.922|\n",
      "|        109|    12|             NCR| 57.049|  9.922|        103|ÃƒËœsterÃƒÂ¥  MÃƒ...|    ÃƒËœsterÃƒÂ¥|           12|   9000|57.049| 9.922|\n",
      "|         57|    39|             NCR| 56.973|  9.851|         84|           Svenstrup|  GodthÃƒÂ¥bsvej|           14|   9230|56.973| 9.851|\n",
      "|        100|    55|             NCR| 56.769|  9.859|         46|               Arden|      Vestergade|            6|   9510|56.769| 9.859|\n",
      "|         17|    22|             NCR| 55.642| 12.106|          9|            Roskilde|KÃƒÂ¸benhavnsvej|           65|   4000|55.642|12.106|\n",
      "+-----------+------+----------------+-------+-------+-----------+--------------------+----------------+-------------+-------+------+------+\n",
      "only showing top 20 rows\n",
      "\n"
     ]
    }
   ],
   "source": [
    "new_atm_df.show()\n"
   ]
  },
  {
   "cell_type": "code",
   "execution_count": 50,
   "metadata": {},
   "outputs": [],
   "source": [
    "new_atm_df.coalesce(1).write.format('csv').save('/root/data50')"
   ]
  },
  {
   "cell_type": "code",
   "execution_count": null,
   "metadata": {},
   "outputs": [],
   "source": []
  },
  {
   "cell_type": "code",
   "execution_count": 51,
   "metadata": {},
   "outputs": [],
   "source": [
    "# fact table\n"
   ]
  },
  {
   "cell_type": "code",
   "execution_count": 52,
   "metadata": {},
   "outputs": [],
   "source": [
    "df=df.alias('df')\n",
    "dimdate_df=dimdate_df.alias('dimdate_df')\n",
    "new_atm_df=new_atm_df.alias('new_atm_df')\n",
    "dimlocation_df=dimlocation_df.alias('dimlocation_df')\n",
    "dimcard_df=dimcard_df.alias('dimcard_df')\n",
    "\n"
   ]
  },
  {
   "cell_type": "code",
   "execution_count": 53,
   "metadata": {},
   "outputs": [],
   "source": [
    "# 1st join with Date\n",
    "stg1_df=df.join(dimdate_df,\n",
    "                on=['year','month','day','hour','weekday'], \n",
    "                how='left').select(\"df.*\", \"dimdate_df.date_id\").drop(*['year','month','day','hour','weekday'])"
   ]
  },
  {
   "cell_type": "code",
   "execution_count": 54,
   "metadata": {},
   "outputs": [],
   "source": [
    "stg1_df=stg1_df.alias('stg1_df')\n"
   ]
  },
  {
   "cell_type": "code",
   "execution_count": 55,
   "metadata": {},
   "outputs": [],
   "source": [
    "# 2nd join with Card\n",
    "stg2_df=stg1_df.join(dimcard_df,\n",
    "                    on=['card_type'],\n",
    "                    how='left').select(\"stg1_df.*\",\"card_type_id\").drop(*['card_type'])"
   ]
  },
  {
   "cell_type": "code",
   "execution_count": 56,
   "metadata": {},
   "outputs": [
    {
     "name": "stdout",
     "output_type": "stream",
     "text": [
      "+----------+------+----------------+--------------------+-----------------+-----------------+-----------+-------+-------+--------+-----------------+----------+------------+------------+-----------+-----------+---------------+-----------------+-------+--------+--------+----------+--------+-------+----------+----------+------------+-------------------+-------+------------+\n",
      "|atm_status|atm_id|atm_manufacturer|        atm_location|   atm_streetname|atm_street_number|atm_zipcode|atm_lat|atm_lon|currency|transction_amount|   service|message_code|message_text|weather_lat|weather_lon|weather_city_id|weather_city_name|   temp|pressure|humidity|wind_speed|wind_deg|rain_3h|clouds_all|weather_id|weather_main|weather_description|date_id|card_type_id|\n",
      "+----------+------+----------------+--------------------+-----------------+-----------------+-----------+-------+-------+--------+-----------------+----------+------------+------------+-----------+-----------+---------------+-----------------+-------+--------+--------+----------+--------+-------+----------+----------+------------+-------------------+-------+------------+\n",
      "|    Active|    62| Diebold Nixdorf|            Terndrup|         Bymidten|                2|       9575| 56.815| 10.057|     DKK|              936|Withdrawal|        null|        null|     56.715|     10.117|        2620952|          Hadsund|286.321|    1029|      74|         7|     244|    0.0|         0|       800|       Clear|       Sky is Clear|     61|           1|\n",
      "|    Active|    69|             NCR|               Taars|         Bredgade|               91|       9830| 57.385| 10.116|     DKK|             5612|Withdrawal|        null|        null|     57.383|     10.117|        2611852|             Tars|286.321|    1029|      74|         7|     244|    0.0|         0|       800|       Clear|       Sky is Clear|     61|           1|\n",
      "|  Inactive|    16|             NCR|               Skive|         Adelgade|                8|       7800| 56.567|  9.027|     DKK|             9756|Withdrawal|        null|        null|     56.567|      9.033|        2613731|            Skive| 289.15|    1019|      48|         7|     230|    0.0|         0|       800|       Clear|       Sky is Clear|     61|           1|\n",
      "|    Active|     8|             NCR|         GlyngÃƒÂ¸re|      FÃƒÂ¦rgevej|                1|       7870| 56.762|  8.867|     DKK|             4651|Withdrawal|        null|        null|     56.793|      8.853|        2615964|    Nykobing Mors| 289.15|    1019|      48|         7|     230|    0.0|         0|       800|       Clear|       Sky is Clear|     61|           1|\n",
      "|    Active|    34|             NCR|           Skipperen|      Vestre Alle|                2|       9000| 57.034|  9.908|     DKK|             6701|Withdrawal|        null|        null|     57.048|      9.919|        2624886|          Aalborg|286.321|    1029|      74|         7|     244|    0.0|         0|       800|       Clear|       Sky is Clear|     61|           1|\n",
      "|  Inactive|    88|             NCR|  Storcenter indg. A|         Hobrovej|              452|       9200| 57.005|  9.876|     DKK|             3948|Withdrawal|        null|        null|     56.972|      9.848|        2612021|        Svenstrup|286.321|    1029|      74|         7|     244|    0.0|         0|       800|       Clear|       Sky is Clear|     61|           1|\n",
      "|    Active|    63|             NCR|     Brugsen i Breum|    AakjÃƒÂ¦rsvej|                1|       7870| 56.688|  9.069|     DKK|             5894|Withdrawal|        null|        null|     56.586|      9.136|        2619908|          Hojslev|286.321|    1029|      74|         7|     244|    0.0|         0|       800|       Clear|       Sky is Clear|     61|           1|\n",
      "|    Active|    63|             NCR|     Brugsen i Breum|    AakjÃƒÂ¦rsvej|                1|       7870| 56.688|  9.069|     DKK|             9629|Withdrawal|        null|        null|     56.586|      9.136|        2619908|          Hojslev|286.321|    1029|      74|         7|     244|    0.0|         0|       800|       Clear|       Sky is Clear|     61|           1|\n",
      "|  Inactive|    74|             NCR|             Jebjerg|        Kirkegade|                4|       7870| 56.671|  9.013|     DKK|             2770|Withdrawal|        null|        null|     56.567|      9.033|        2613731|            Skive| 289.15|    1019|      48|         7|     230|    0.0|         0|       800|       Clear|       Sky is Clear|     61|           1|\n",
      "|    Active|    41| Diebold Nixdorf|              Skagen|Sct. Laurentiivej|               36|       9990| 57.723|  10.59|     DKK|             2483|Withdrawal|        null|        null|     57.721|     10.584|        2613939|           Skagen| 281.72|    1019|      75|         6|     230|    0.0|        75|       803|      Clouds|      broken clouds|     61|           1|\n",
      "|    Active|    28|             NCR|       LÃƒÂ¸gstÃƒÂ¸r|  ÃƒËœsterbrogade|                8|       9670| 56.967|  9.253|     DKK|             7732|Withdrawal|        null|        null|     56.962|      9.258|        2617467|          Logstor|286.321|    1029|      74|         7|     244|    0.0|         0|       800|       Clear|       Sky is Clear|     61|           1|\n",
      "|    Active|    48| Diebold Nixdorf|      BrÃƒÂ¸nderslev|           Algade|                4|       9700| 57.269|  9.945|     DKK|             8664|Withdrawal|        null|        null|     57.118|      9.857|        2610823|            Vadum|286.321|    1029|      74|         7|     244|    0.0|         0|       800|       Clear|       Sky is Clear|     61|           1|\n",
      "|    Active|    39|             NCR|           Svenstrup|   GodthÃƒÂ¥bsvej|               14|       9230| 56.973|  9.851|     DKK|             5858|Withdrawal|        null|        null|     56.972|      9.848|        2612021|        Svenstrup|286.321|    1029|      74|         7|     244|    0.0|         0|       800|       Clear|       Sky is Clear|     61|           1|\n",
      "|  Inactive|    16|             NCR|               Skive|         Adelgade|                8|       7800| 56.567|  9.027|     DKK|             4609|Withdrawal|        null|        null|     56.567|      9.033|        2613731|            Skive| 289.15|    1019|      48|         7|     230|    0.0|         0|       800|       Clear|       Sky is Clear|     61|           1|\n",
      "|    Active|     7| Diebold Nixdorf|           Hjallerup|Hjallerup Centret|               18|       9320| 57.168| 10.148|     DKK|             8662|Withdrawal|        null|        null|     57.165|     10.146|        2620275|        Hjallerup|286.321|    1029|      74|         7|     244|    0.0|         0|       800|       Clear|       Sky is Clear|     61|           1|\n",
      "|    Active|    87|             NCR|Aalborg Storcente...|         Hobrovej|              452|       9200| 57.005|  9.876|     DKK|             7649|Withdrawal|        null|        null|     56.972|      9.848|        2612021|        Svenstrup|286.321|    1029|      74|         7|     244|    0.0|         0|       800|       Clear|       Sky is Clear|     61|           1|\n",
      "|    Active|    75|             NCR|           Nordkraft|  Kjellerups Torv|                1|       9000| 57.047|  9.932|     DKK|             7034|Withdrawal|        null|        null|     57.048|      9.935|        2616235|   NÃƒÂ¸rresundby|286.321|    1029|      74|         7|     244|    0.0|         0|       800|       Clear|       Sky is Clear|     61|           1|\n",
      "|    Active|    80|             NCR|Menu KÃƒÂ¸bmand K...|        Klarupvej|               52|       9270| 57.013| 10.046|     DKK|             8775|Withdrawal|        null|        null|     57.004|     10.101|        2612301|        Storvorde| 291.15|    1012|      82|         4|     240|    0.0|        40|       802|      Clouds|   scattered clouds|    711|           1|\n",
      "|    Active|     8|             NCR|         GlyngÃƒÂ¸re|      FÃƒÂ¦rgevej|                1|       7870| 56.762|  8.867|     DKK|             8156|Withdrawal|        null|        null|     56.793|      8.853|        2615964|    Nykobing Mors| 291.15|    1014|      82|         3|     200|    0.0|        40|       802|      Clouds|   scattered clouds|    711|           1|\n",
      "|    Active|    67|             NCR|          HÃƒÂ¸jslev|   ÃƒËœsterrisvej|                2|       7840| 56.551|   9.11|     DKK|              212|Withdrawal|        null|        null|     56.586|      9.136|        2619908|          Hojslev| 291.15|    1012|      82|         4|     240|    0.0|        40|       802|      Clouds|   scattered clouds|    711|           1|\n",
      "+----------+------+----------------+--------------------+-----------------+-----------------+-----------+-------+-------+--------+-----------------+----------+------------+------------+-----------+-----------+---------------+-----------------+-------+--------+--------+----------+--------+-------+----------+----------+------------+-------------------+-------+------------+\n",
      "only showing top 20 rows\n",
      "\n"
     ]
    }
   ],
   "source": [
    "stg2_df.show()"
   ]
  },
  {
   "cell_type": "code",
   "execution_count": 57,
   "metadata": {},
   "outputs": [],
   "source": [
    "# 3rd join with Location\n",
    "stg2_df=stg2_df.alias('stg2_df')\n",
    "\n",
    "stg2_df=stg2_df.withColumnRenamed('atm_location','location').withColumnRenamed('atm_lat','lat').withColumnRenamed('atm_lon','lon').withColumnRenamed('atm_streetname','streetname').withColumnRenamed('atm_street_number','street_number').withColumnRenamed('atm_zipcode','zipcode')\n",
    "\n",
    "\n"
   ]
  },
  {
   "cell_type": "code",
   "execution_count": 58,
   "metadata": {},
   "outputs": [],
   "source": [
    "stg3_df=stg2_df.join(dimlocation_df,\n",
    "                    on=['location','lat','lon','streetname','street_number','zipcode'],\n",
    "                    how='left').select(\"stg2_df.*\",\"location_id\").drop(*['location','lat','lon','streetname','street_number','zipcode'])\n"
   ]
  },
  {
   "cell_type": "code",
   "execution_count": 59,
   "metadata": {},
   "outputs": [
    {
     "name": "stdout",
     "output_type": "stream",
     "text": [
      "+----------+------+----------------+--------+-----------------+----------+------------+------------+-----------+-----------+---------------+-----------------+-------+--------+--------+----------+--------+-------+----------+----------+------------+--------------------+-------+------------+-----------+\n",
      "|atm_status|atm_id|atm_manufacturer|currency|transction_amount|   service|message_code|message_text|weather_lat|weather_lon|weather_city_id|weather_city_name|   temp|pressure|humidity|wind_speed|wind_deg|rain_3h|clouds_all|weather_id|weather_main| weather_description|date_id|card_type_id|location_id|\n",
      "+----------+------+----------------+--------+-----------------+----------+------------+------------+-----------+-----------+---------------+-----------------+-------+--------+--------+----------+--------+-------+----------+----------+------------+--------------------+-------+------------+-----------+\n",
      "|    Active|     6|             NCR|     DKK|             5622|Withdrawal|        null|        null|     55.566|      9.753|        2621951|       Fredericia| 283.75|     998|      93|        10|     220|    0.0|        75|       803|      Clouds|       broken clouds|    460|           1|         63|\n",
      "|    Active|     6|             NCR|     DKK|             2032|Withdrawal|        null|        null|     55.566|      9.753|        2621951|       Fredericia| 288.16|    1013|      87|         1|     220|    0.0|        40|       802|      Clouds|    scattered clouds|    628|           1|         63|\n",
      "|    Active|     6|             NCR|     DKK|             9704|Withdrawal|        null|        null|     55.566|      9.753|        2621951|       Fredericia| 291.97|    1018|      48|         4|     310|    0.0|        68|       803|      Clouds|       broken clouds|   7488|           1|         63|\n",
      "|    Active|     6|             NCR|     DKK|             5557|Withdrawal|        null|        null|     55.566|      9.753|        2621951|       Fredericia| 288.36|    1020|      77|         3|     280|    0.0|        12|       801|      Clouds|          few clouds|    450|           1|         63|\n",
      "|    Active|     6|             NCR|     DKK|             5696|Withdrawal|        null|        null|     55.566|      9.753|        2621951|       Fredericia| 288.66|    1007|      62|         8|     260|    0.0|        48|       802|      Clouds|    scattered clouds|   6302|           1|         63|\n",
      "|    Active|     6|             NCR|     DKK|             1919|Withdrawal|        null|        null|     55.566|      9.753|        2621951|       Fredericia| 276.14|    1036|      86|         3|     220|   0.17|        92|       500|        Rain|          light rain|   1974|           1|         63|\n",
      "|    Active|     6|             NCR|     DKK|             5856|Withdrawal|        null|        null|     55.566|      9.753|        2621951|       Fredericia| 286.35|    1026|      50|         9|      30|    0.0|         0|       800|       Clear|        Sky is Clear|   2101|           1|         63|\n",
      "|    Active|     6|             NCR|     DKK|             6618|Withdrawal|        null|        null|     55.566|      9.753|        2621951|       Fredericia| 284.15|     998|     100|         9|     230|    0.0|        75|       310|     Drizzle|light intensity d...|   7589|           1|         63|\n",
      "|    Active|     6|             NCR|     DKK|             5241|Withdrawal|        null|        null|     55.566|      9.753|        2621951|       Fredericia| 289.55|    1019|      87|         4|     220|    0.0|        75|       701|        Mist|                mist|   1060|           1|         63|\n",
      "|    Active|     6|             NCR|     DKK|             5622|Withdrawal|        null|        null|     55.566|      9.753|        2621951|       Fredericia| 289.55|    1019|      87|         4|     220|    0.0|        75|       701|        Mist|                mist|   1060|           1|         63|\n",
      "|    Active|     6|             NCR|     DKK|             6548|Withdrawal|        null|        null|     55.566|      9.753|        2621951|       Fredericia| 289.75|    1010|      59|         2|     340|    0.0|        24|       801|      Clouds|          few clouds|   4331|           1|         63|\n",
      "|    Active|     6|             NCR|     DKK|              557|Withdrawal|        null|        null|     55.566|      9.753|        2621951|       Fredericia| 281.55|    1020|      87|         6|     240|    0.0|         0|       800|       Clear|        Sky is Clear|   1549|           1|         63|\n",
      "|    Active|     6|             NCR|     DKK|             3411|Withdrawal|        null|        null|     55.566|      9.753|        2621951|       Fredericia| 283.15|    1020|      81|         5|     240|    0.0|         0|       800|       Clear|        Sky is Clear|   1798|           1|         63|\n",
      "|    Active|     6|             NCR|     DKK|             8175|Withdrawal|        null|        null|     55.566|      9.753|        2621951|       Fredericia| 273.56|    1019|      99|         1|     230|    0.0|         0|       800|       Clear|        Sky is Clear|    640|           1|         63|\n",
      "|    Active|     6|             NCR|     DKK|             9620|Withdrawal|        null|        null|     55.566|      9.753|        2621951|       Fredericia| 274.76|     995|     100|         1|     190|    0.0|        40|       500|        Rain|          light rain|   7796|           1|         63|\n",
      "|    Active|     6|             NCR|     DKK|             4213|Withdrawal|        null|        null|     55.566|      9.753|        2621951|       Fredericia| 278.16|    1009|      93|         4|     230|    0.0|        56|       520|        Rain|light intensity s...|    583|           1|         63|\n",
      "|    Active|     6|             NCR|     DKK|             6356|Withdrawal|        null|        null|     55.566|      9.753|        2621951|       Fredericia|  290.9|    1013|      59|         4|     240|    0.0|         0|       800|       Clear|        Sky is Clear|   5742|           1|         63|\n",
      "|    Active|     6|             NCR|     DKK|             1765|Withdrawal|        null|        null|     55.566|      9.753|        2621951|       Fredericia| 272.15|    1039|      80|         4|     100|    0.0|         0|       800|       Clear|        Sky is Clear|   2141|           1|         63|\n",
      "|    Active|     6|             NCR|     DKK|             4297|Withdrawal|        null|        null|     55.566|      9.753|        2621951|       Fredericia|275.069|    1036|      99|         4|     231|    0.0|        80|       803|      Clouds|       broken clouds|   2680|           1|         63|\n",
      "|    Active|     6|             NCR|     DKK|             2700|Withdrawal|        null|        null|     55.566|      9.753|        2621951|       Fredericia| 278.54|     990|      86|         6|     230|    0.0|        75|       520|        Rain|light intensity s...|   2892|           1|         63|\n",
      "+----------+------+----------------+--------+-----------------+----------+------------+------------+-----------+-----------+---------------+-----------------+-------+--------+--------+----------+--------+-------+----------+----------+------------+--------------------+-------+------------+-----------+\n",
      "only showing top 20 rows\n",
      "\n"
     ]
    }
   ],
   "source": [
    "stg3_df.show()"
   ]
  },
  {
   "cell_type": "code",
   "execution_count": null,
   "metadata": {},
   "outputs": [],
   "source": []
  },
  {
   "cell_type": "code",
   "execution_count": 60,
   "metadata": {},
   "outputs": [],
   "source": [
    "# 4th join with ATM\n",
    "stg3_df=stg3_df.alias('stg3_df')"
   ]
  },
  {
   "cell_type": "code",
   "execution_count": 61,
   "metadata": {},
   "outputs": [],
   "source": [
    "stg3_df=stg3_df.withColumnRenamed('atm_lat','lat').withColumnRenamed('atm_lon','lon').withColumnRenamed('atm_streetname','streetname').withColumnRenamed('atm_street_number','street_number').withColumnRenamed('atm_zipcode','zipcode')\n"
   ]
  },
  {
   "cell_type": "code",
   "execution_count": 62,
   "metadata": {},
   "outputs": [],
   "source": [
    "stg4_df=stg3_df.join(new_atm_df,\n",
    "                    on=['atm_manufacturer','location_id'],\n",
    "                    how='left').select(\"stg3_df.*\",\"atm_main_id\").drop(*['atm_manufacturer','location_id'])\n"
   ]
  },
  {
   "cell_type": "code",
   "execution_count": 63,
   "metadata": {},
   "outputs": [
    {
     "name": "stdout",
     "output_type": "stream",
     "text": [
      "+----------+------+--------+-----------------+----------+------------+--------------------+-----------+-----------+---------------+-----------------+-------+--------+--------+----------+--------+-------+----------+----------+------------+-------------------+-------+------------+-----------+\n",
      "|atm_status|atm_id|currency|transction_amount|   service|message_code|        message_text|weather_lat|weather_lon|weather_city_id|weather_city_name|   temp|pressure|humidity|wind_speed|wind_deg|rain_3h|clouds_all|weather_id|weather_main|weather_description|date_id|card_type_id|atm_main_id|\n",
      "+----------+------+--------+-----------------+----------+------------+--------------------+-----------+-----------+---------------+-----------------+-------+--------+--------+----------+--------+-------+----------+----------+------------+-------------------+-------+------------+-----------+\n",
      "|    Active|    51|     DKK|             1999|Withdrawal|        null|                null|     56.994|      9.991|        2621449|          Gistrup|274.026|     994|      90|         5|     164|    0.0|        44|       802|      Clouds|   scattered clouds|   7591|           1|         44|\n",
      "|    Active|    51|     DKK|             6185|Withdrawal|        4017|Suspected malfunc...|       null|       null|           null|             null|   null|    null|    null|      null|    null|   null|      null|      null|        null|               null|    415|           1|         44|\n",
      "|    Active|    51|     DKK|             6083|Withdrawal|        null|                null|     56.994|      9.991|        2621449|          Gistrup| 275.19|    1001|      90|         4|      86|    0.0|        88|       804|      Clouds|    overcast clouds|    415|           1|         44|\n",
      "|    Active|    51|     DKK|             7837|Withdrawal|        null|                null|     56.994|      9.991|        2621449|          Gistrup| 279.15|    1026|     100|         3|     230|    0.0|        90|       741|         Fog|                fog|   7836|           1|         44|\n",
      "|    Active|    51|     DKK|              307|Withdrawal|        null|                null|     56.994|      9.991|        2621449|          Gistrup| 279.15|    1026|     100|         3|     230|    0.0|        90|       741|         Fog|                fog|   7836|           1|         44|\n",
      "|    Active|    51|     DKK|             7121|Withdrawal|        null|                null|     56.994|      9.991|        2621449|          Gistrup| 272.15|    1032|      58|         9|      80|    0.0|        75|       600|        Snow|         light snow|   3477|           1|         44|\n",
      "|    Active|    51|     DKK|             3878|Withdrawal|        null|                null|     56.994|      9.991|        2621449|          Gistrup| 272.15|    1032|      58|         9|      80|    0.0|        75|       600|        Snow|         light snow|   3477|           1|         44|\n",
      "|    Active|    51|     DKK|             3487|Withdrawal|        null|                null|     56.994|      9.991|        2621449|          Gistrup|270.996|    1026|      66|         3|     330|    0.0|         0|       800|       Clear|       Sky is Clear|   2448|           1|         44|\n",
      "|    Active|    51|     DKK|             7442|Withdrawal|        null|                null|     56.994|      9.991|        2621449|          Gistrup|287.761|    1027|      78|         6|     276|    0.0|         0|       800|       Clear|       Sky is Clear|   1271|           1|         44|\n",
      "|    Active|    51|     DKK|             4461|Withdrawal|        null|                null|     56.994|      9.991|        2621449|          Gistrup|279.925|    1038|      64|         4|     115|    0.0|         8|       800|       Clear|       sky is clear|   4567|           1|         44|\n",
      "|    Active|    51|     DKK|             6967|Withdrawal|        null|                null|     56.994|      9.991|        2621449|          Gistrup|282.722|    1006|      95|         4|     186|  1.938|        92|       500|        Rain|         light rain|    460|           1|         44|\n",
      "|    Active|    51|     DKK|             5902|Withdrawal|        null|                null|     56.994|      9.991|        2621449|          Gistrup|285.852|    1028|      82|         2|      65|  0.125|        68|       500|        Rain|         light rain|   4733|           1|         44|\n",
      "|    Active|    51|     DKK|             8066|Withdrawal|        null|                null|     56.994|      9.991|        2621449|          Gistrup|289.302|    1043|      77|         6|     103|    0.0|        64|       803|      Clouds|      broken clouds|   4343|           1|         44|\n",
      "|    Active|    51|     DKK|             6069|Withdrawal|        null|                null|     56.994|      9.991|        2621449|          Gistrup|292.624|    1027|      76|         2|     248|    0.0|         0|       800|       Clear|       Sky is Clear|   5276|           1|         44|\n",
      "|    Active|    51|     DKK|             6599|Withdrawal|        null|                null|     56.994|      9.991|        2621449|          Gistrup| 268.15|    1037|      62|         6|     190|    0.0|         0|       800|       Clear|       Sky is Clear|   4029|           1|         44|\n",
      "|    Active|    51|     DKK|             1573|Withdrawal|        null|                null|     56.994|      9.991|        2621449|          Gistrup| 291.15|    1017|      63|         5|     110|    0.0|        75|       803|      Clouds|      broken clouds|   7734|           1|         44|\n",
      "|    Active|    51|     DKK|             6624|Withdrawal|        null|                null|     56.994|      9.991|        2621449|          Gistrup| 287.15|    1017|      71|         4|     291|    0.0|        75|       803|      Clouds|      broken clouds|   8622|           1|         44|\n",
      "|    Active|    51|     DKK|             4432|Withdrawal|        null|                null|     56.994|      9.991|        2621449|          Gistrup| 287.15|    1017|      71|         4|     291|    0.0|        75|       803|      Clouds|      broken clouds|   8622|           1|         44|\n",
      "|    Active|    51|     DKK|             5327|Withdrawal|        null|                null|     56.994|      9.991|        2621449|          Gistrup| 287.15|    1017|      71|         4|     291|    0.0|        75|       803|      Clouds|      broken clouds|   8622|           1|         44|\n",
      "|    Active|    51|     DKK|             9364|Withdrawal|        null|                null|     56.994|      9.991|        2621449|          Gistrup| 278.15|     985|      80|         8|     260|    0.0|        75|       521|        Rain|        shower rain|   7686|           1|         44|\n",
      "+----------+------+--------+-----------------+----------+------------+--------------------+-----------+-----------+---------------+-----------------+-------+--------+--------+----------+--------+-------+----------+----------+------------+-------------------+-------+------------+-----------+\n",
      "only showing top 20 rows\n",
      "\n"
     ]
    }
   ],
   "source": [
    "stg4_df.show()"
   ]
  },
  {
   "cell_type": "code",
   "execution_count": 64,
   "metadata": {},
   "outputs": [],
   "source": [
    "stg_temp = stg4_df.dropDuplicates()\n"
   ]
  },
  {
   "cell_type": "code",
   "execution_count": 65,
   "metadata": {},
   "outputs": [],
   "source": [
    "out_rdd_fact = stg_temp.rdd.zipWithIndex().map(lambda (row,rowId): (list(row)+ [rowId+1]))\n",
    "\n",
    "out_df_fact = stg_temp.withColumn(\"trans_id\", lit(1))\n",
    "\n",
    "fact_df = sqlContext.createDataFrame(out_rdd_fact, schema=out_df_fact.schema).select([\"trans_id\",\"atm_status\",\"atm_id\",\"currency\",\"transction_amount\",\"service\",\"message_code\",\"message_text\",\"weather_lat\",\"weather_lon\",\"weather_city_id\",\"weather_city_name\",\"temp\",\"pressure\",\"humidity\",\"wind_speed\",\"wind_deg\",\"rain_3h\",\"clouds_all\",\"weather_id\",\"weather_main\",\"weather_description\",\"date_id\",\"card_type_id\",\"atm_main_id\"])\n"
   ]
  },
  {
   "cell_type": "code",
   "execution_count": 66,
   "metadata": {},
   "outputs": [
    {
     "data": {
      "text/plain": [
       "3095761"
      ]
     },
     "execution_count": 66,
     "metadata": {},
     "output_type": "execute_result"
    }
   ],
   "source": [
    "fact_df.count()"
   ]
  },
  {
   "cell_type": "code",
   "execution_count": 67,
   "metadata": {},
   "outputs": [],
   "source": [
    "fact_df.coalesce(1).write.format('csv').save('/root/data60')"
   ]
  },
  {
   "cell_type": "code",
   "execution_count": 68,
   "metadata": {},
   "outputs": [
    {
     "name": "stdout",
     "output_type": "stream",
     "text": [
      "+--------+----------+------+--------+-----------------+----------+------------+------------+-----------+-----------+---------------+-----------------+-------+--------+--------+----------+--------+-------+----------+----------+------------+--------------------+-------+------------+-----------+\n",
      "|trans_id|atm_status|atm_id|currency|transction_amount|   service|message_code|message_text|weather_lat|weather_lon|weather_city_id|weather_city_name|   temp|pressure|humidity|wind_speed|wind_deg|rain_3h|clouds_all|weather_id|weather_main| weather_description|date_id|card_type_id|atm_main_id|\n",
      "+--------+----------+------+--------+-----------------+----------+------------+------------+-----------+-----------+---------------+-----------------+-------+--------+--------+----------+--------+-------+----------+----------+------------+--------------------+-------+------------+-----------+\n",
      "|       1|    Active|    51|     DKK|             1537|Withdrawal|        null|        null|     56.994|      9.991|        2621449|          Gistrup|295.301|    1021|      63|         5|     236|    0.0|        68|       803|      Clouds|       broken clouds|   2744|           1|         44|\n",
      "|       2|    Active|    51|     DKK|              716|Withdrawal|        null|        null|     56.994|      9.991|        2621449|          Gistrup|289.751|    1016|      95|         5|     241|   3.25|        92|       501|        Rain|       moderate rain|   8112|           1|         44|\n",
      "|       3|    Active|    51|     DKK|             7989|Withdrawal|        null|        null|     56.994|      9.991|        2621449|          Gistrup| 291.15|    1006|      52|         4|     300|    0.0|        20|       801|      Clouds|          few clouds|   1959|           1|         44|\n",
      "|       4|    Active|    51|     DKK|              973|Withdrawal|        null|        null|     56.994|      9.991|        2621449|          Gistrup|292.165|    1029|      70|         4|     243|    0.0|        44|       802|      Clouds|    scattered clouds|   8183|           1|         44|\n",
      "|       5|    Active|    51|     DKK|             5763|Withdrawal|        null|        null|     56.994|      9.991|        2621449|          Gistrup|288.112|    1027|      98|         6|     261|    0.0|        76|       803|      Clouds|       broken clouds|   1095|           1|         44|\n",
      "|       6|    Active|    51|     DKK|             3843|Withdrawal|        null|        null|     56.994|      9.991|        2621449|          Gistrup|277.219|    1008|      83|         7|     263|    0.0|         8|       800|       Clear|        sky is clear|   1003|           1|         44|\n",
      "|       7|    Active|    51|     DKK|             5984|Withdrawal|        null|        null|     56.994|      9.991|        2621449|          Gistrup| 278.15|    1003|      86|         2|     230|    0.0|        40|       802|      Clouds|    scattered clouds|   5411|           1|         44|\n",
      "|       8|    Active|    51|     DKK|             3262|Withdrawal|        null|        null|     56.994|      9.991|        2621449|          Gistrup|275.322|    1030|      92|         5|     153|  0.105|        76|       500|        Rain|          light rain|   2944|           1|         44|\n",
      "|       9|    Active|    51|     DKK|             9715|Withdrawal|        null|        null|     56.994|      9.991|        2621449|          Gistrup|274.251|    1036|      88|         2|      79|    0.0|        88|       804|      Clouds|     overcast clouds|   7392|           1|         44|\n",
      "|      10|    Active|    51|     DKK|             6792|Withdrawal|        null|        null|     56.994|      9.991|        2621449|          Gistrup| 289.08|    1021|      78|         3|     128|    0.0|        24|       801|      Clouds|          few clouds|    286|           1|         44|\n",
      "|      11|    Active|    51|     DKK|              749|Withdrawal|        null|        null|     56.994|      9.991|        2621449|          Gistrup| 277.15|     997|      80|         4|     300|    0.0|        75|       521|        Rain|proximity shower ...|   2731|           1|         44|\n",
      "|      12|    Active|    51|     DKK|             5063|Withdrawal|        null|        null|     56.994|      9.991|        2621449|          Gistrup|288.138|    1023|      74|         6|     278|    0.0|         8|       800|       Clear|        sky is clear|    321|           1|         44|\n",
      "|      13|    Active|    51|     DKK|             9478|Withdrawal|        null|        null|     56.994|      9.991|        2621449|          Gistrup|292.165|    1029|      70|         4|     243|    0.0|        44|       802|      Clouds|    scattered clouds|   7491|           1|         44|\n",
      "|      14|    Active|    51|     DKK|             3265|Withdrawal|        null|        null|     56.994|      9.991|        2621449|          Gistrup| 290.15|    1009|      72|         8|     290|    0.0|         0|       800|       Clear|        Sky is Clear|    703|           4|         44|\n",
      "|      15|    Active|    51|     DKK|             7051|Withdrawal|        null|        null|     56.994|      9.991|        2621449|          Gistrup|292.295|    1013|      99|         7|     178|   7.94|        92|       501|        Rain|       moderate rain|   7669|           4|         44|\n",
      "|      16|    Active|    51|     DKK|             5620|Withdrawal|        null|        null|     56.994|      9.991|        2621449|          Gistrup|292.268|    1033|      69|         4|     254|    0.0|         0|       800|       Clear|        Sky is Clear|   4621|           4|         44|\n",
      "|      17|    Active|    51|     DKK|              970|Withdrawal|        null|        null|     56.994|      9.991|        2621449|          Gistrup|277.304|    1033|      90|         4|      91|    0.0|        88|       804|      Clouds|     overcast clouds|    222|           4|         44|\n",
      "|      18|    Active|    51|     DKK|              913|Withdrawal|        null|        null|     56.994|      9.991|        2621449|          Gistrup|290.667|    1029|      70|         5|     320|    0.0|        20|       801|      Clouds|          few clouds|   6254|           4|         44|\n",
      "|      19|    Active|    51|     DKK|             1931|Withdrawal|        null|        null|     56.994|      9.991|        2621449|          Gistrup| 278.15|    1020|      94|         4|     260|    0.0|        20|       801|      Clouds|          few clouds|   6975|           5|         44|\n",
      "|      20|    Active|    51|     DKK|             4672|Withdrawal|        null|        null|     56.994|      9.991|        2621449|          Gistrup| 284.15|    1025|      93|         5|     250|    0.0|        75|       701|        Mist|                mist|   7070|           5|         44|\n",
      "+--------+----------+------+--------+-----------------+----------+------------+------------+-----------+-----------+---------------+-----------------+-------+--------+--------+----------+--------+-------+----------+----------+------------+--------------------+-------+------------+-----------+\n",
      "only showing top 20 rows\n",
      "\n",
      "----------------------------------------\n",
      "Exception happened during processing of request from ('127.0.0.1', 41732)\n",
      "----------------------------------------\n"
     ]
    },
    {
     "name": "stderr",
     "output_type": "stream",
     "text": [
      "Traceback (most recent call last):\n",
      "  File \"/opt/cloudera/parcels/Anaconda-2019.10/lib/python2.7/SocketServer.py\", line 293, in _handle_request_noblock\n",
      "    self.process_request(request, client_address)\n",
      "  File \"/opt/cloudera/parcels/Anaconda-2019.10/lib/python2.7/SocketServer.py\", line 321, in process_request\n",
      "    self.finish_request(request, client_address)\n",
      "  File \"/opt/cloudera/parcels/Anaconda-2019.10/lib/python2.7/SocketServer.py\", line 334, in finish_request\n",
      "    self.RequestHandlerClass(request, client_address, self)\n",
      "  File \"/opt/cloudera/parcels/Anaconda-2019.10/lib/python2.7/SocketServer.py\", line 655, in __init__\n",
      "    self.handle()\n",
      "  File \"/opt/cloudera/parcels/SPARK2-2.3.0.cloudera2-1.cdh5.13.3.p0.316101/lib/spark2//python/lib/pyspark.zip/pyspark/accumulators.py\", line 235, in handle\n",
      "    num_updates = read_int(self.rfile)\n",
      "  File \"/opt/cloudera/parcels/SPARK2-2.3.0.cloudera2-1.cdh5.13.3.p0.316101/lib/spark2//python/lib/pyspark.zip/pyspark/serializers.py\", line 685, in read_int\n",
      "    raise EOFError\n",
      "EOFError\n"
     ]
    }
   ],
   "source": [
    "fact_df.show()"
   ]
  }
 ],
 "metadata": {
  "kernelspec": {
   "display_name": "Python 2",
   "language": "python",
   "name": "python2"
  },
  "language_info": {
   "codemirror_mode": {
    "name": "ipython",
    "version": 2
   },
   "file_extension": ".py",
   "mimetype": "text/x-python",
   "name": "python",
   "nbconvert_exporter": "python",
   "pygments_lexer": "ipython2",
   "version": "2.7.16"
  }
 },
 "nbformat": 4,
 "nbformat_minor": 2
}
