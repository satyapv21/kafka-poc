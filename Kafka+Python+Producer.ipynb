{
 "cells": [
  {
   "cell_type": "code",
   "execution_count": 1,
   "metadata": {},
   "outputs": [
    {
     "name": "stdout",
     "output_type": "stream",
     "text": [
      "test\n",
      "0\n",
      "test\n",
      "0\n"
     ]
    }
   ],
   "source": [
    "# If you don't have kafka, please first execute pip install kafka-python\n",
    "from kafka import KafkaProducer\n",
    "\n",
    "#Setting up the producer configurations\n",
    "bootstrap_servers = ['localhost:9092']\n",
    "topicName = 'test'\n",
    "producer = KafkaProducer(bootstrap_servers = bootstrap_servers)\n",
    "producer = KafkaProducer()\n",
    "\n",
    "# Sending the message from the producer\n",
    "ack = producer.send(topicName, b'Sending again')\n",
    "metadata = ack.get()\n",
    "print(metadata.topic)\n",
    "print(metadata.partition)\n",
    "\n",
    "# Sending the message with both key and value\n",
    "ack = producer.send(topicName, key=b'Hello' , value=b'key n value')\n",
    "metadata = ack.get()\n",
    "print(metadata.topic)\n",
    "print(metadata.partition)\n",
    "\n",
    "\n",
    "\n"
   ]
  },
  {
   "cell_type": "code",
   "execution_count": null,
   "metadata": {},
   "outputs": [],
   "source": []
  },
  {
   "cell_type": "code",
   "execution_count": null,
   "metadata": {},
   "outputs": [],
   "source": []
  },
  {
   "cell_type": "code",
   "execution_count": null,
   "metadata": {},
   "outputs": [],
   "source": []
  }
 ],
 "metadata": {
  "kernelspec": {
   "display_name": "Python 3",
   "language": "python",
   "name": "python3"
  },
  "language_info": {
   "codemirror_mode": {
    "name": "ipython",
    "version": 3
   },
   "file_extension": ".py",
   "mimetype": "text/x-python",
   "name": "python",
   "nbconvert_exporter": "python",
   "pygments_lexer": "ipython3",
   "version": "3.8.3"
  }
 },
 "nbformat": 4,
 "nbformat_minor": 4
}
