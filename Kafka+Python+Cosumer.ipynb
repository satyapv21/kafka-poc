{
 "cells": [
  {
   "cell_type": "code",
   "execution_count": null,
   "metadata": {},
   "outputs": [],
   "source": [
    "from kafka import KafkaConsumer\n",
    "import sys\n",
    "\n",
    "### Setting up the Python consumer\n",
    "bootstrap_servers = ['localhost:9092']\n",
    "topicName = 'test'\n",
    "consumer = KafkaConsumer (topicName, group_id = 'my_group_id',bootstrap_servers = bootstrap_servers,\n",
    "auto_offset_reset = 'earliest')   ## You can also set it as latest\n",
    "\n",
    "### Reading the message from consumer\n",
    "try:\n",
    "    for message in consumer:\n",
    "        print (\"%s:%d:%d: key=%s value=%s\" % (message.topic, message.partition,message.offset, message.key,message.value))\n",
    "        \n",
    "except KeyboardInterrupt:\n",
    "    sys.exit()"
   ]
  },
  {
   "cell_type": "code",
   "execution_count": null,
   "metadata": {},
   "outputs": [],
   "source": []
  }
 ],
 "metadata": {
  "kernelspec": {
   "display_name": "Python 3",
   "language": "python",
   "name": "python3"
  },
  "language_info": {
   "codemirror_mode": {
    "name": "ipython",
    "version": 3
   },
   "file_extension": ".py",
   "mimetype": "text/x-python",
   "name": "python",
   "nbconvert_exporter": "python",
   "pygments_lexer": "ipython3",
   "version": "3.8.3"
  }
 },
 "nbformat": 4,
 "nbformat_minor": 4
}
